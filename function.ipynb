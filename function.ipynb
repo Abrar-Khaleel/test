{
 "cells": [
  {
   "cell_type": "code",
   "execution_count": 4,
   "metadata": {},
   "outputs": [
    {
     "name": "stdout",
     "output_type": "stream",
     "text": [
      "['1', '0', ' ', '2', '0', ' ', '3', '0', ' ', '4', '0', ' ', '5', '0']\n"
     ]
    }
   ],
   "source": [
    "def test():\n",
    "    x = input('Enter characters')\n",
    "    y = x.split()\n",
    "    print(x)\n",
    "test()"
   ]
  },
  {
   "cell_type": "markdown",
   "metadata": {},
   "source": []
  },
  {
   "cell_type": "code",
   "execution_count": 8,
   "metadata": {},
   "outputs": [
    {
     "name": "stdout",
     "output_type": "stream",
     "text": [
      "Sum of the Numbers is : 30\n"
     ]
    }
   ],
   "source": [
    "# Define a function to add the input values and return. \n",
    "def my_sum():\n",
    "    numbers = input(\"Enter Numbers separated with space:\")\n",
    "    num_list = map(int, numbers.split())\n",
    "    return sum(num_list)\n",
    "result = my_sum()\n",
    "print(\"Sum of the Numbers is :\", result)"
   ]
  },
  {
   "cell_type": "code",
   "execution_count": 10,
   "metadata": {},
   "outputs": [
    {
     "name": "stdout",
     "output_type": "stream",
     "text": [
      "The word does not start with a vowel.\n"
     ]
    }
   ],
   "source": [
    "#A Function return the given word is Vowel or Not\n",
    "def is_vowel():\n",
    "    vowels = \"aeiouAEIOU\"\n",
    "    word = input(\"Enter a word: \")  # Taking input inside the function\n",
    "        # Check if the first letter of the word is in the vowels list\n",
    "    if word and word[0] in vowels:\n",
    "        return True\n",
    "    else:\n",
    "        return False\n",
    "# Call the function and print the result\n",
    "if is_vowel():\n",
    "    print(f'{} starts with a vowel.')\n",
    "else:\n",
    "    print(\"The word does not start with a vowel.\")"
   ]
  },
  {
   "cell_type": "code",
   "execution_count": null,
   "metadata": {},
   "outputs": [],
   "source": []
  }
 ],
 "metadata": {
  "kernelspec": {
   "display_name": "Python 3",
   "language": "python",
   "name": "python3"
  },
  "language_info": {
   "codemirror_mode": {
    "name": "ipython",
    "version": 3
   },
   "file_extension": ".py",
   "mimetype": "text/x-python",
   "name": "python",
   "nbconvert_exporter": "python",
   "pygments_lexer": "ipython3",
   "version": "3.12.6"
  }
 },
 "nbformat": 4,
 "nbformat_minor": 2
}
